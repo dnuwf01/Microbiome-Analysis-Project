{
 "cells": [
  {
   "cell_type": "code",
   "execution_count": 1,
   "metadata": {},
   "outputs": [
    {
     "data": {
      "text/plain": [
       "'\\nThis code carries out a descriptive analysis of the msm and msw.\\n\\nTask List:\\n\\nReduce MSW to <60 features.\\n1. Remove all features withr 0 sequence reads.\\n2. Also remove ones with less than 0.1% total of the sum!\\n3. Include back the important ones.\\n\\n\\nComparing msm and msw\\n4. Overlay histogram to see interaction.\\n5. STacked bar chart of important features.\\n6. Heatmap correlaton within msm and msw\\n7. Feature level descriptive analysis, mean, median.\\n8. is there any particular bacteria, that contributes to the model.\\n\\nUse msm or msw as the outcome, and we can try different models to fit. \\n\\n'"
      ]
     },
     "execution_count": 1,
     "metadata": {},
     "output_type": "execute_result"
    }
   ],
   "source": [
    "'''\n",
    "This code carries out a descriptive analysis of the msm and msw.\n",
    "\n",
    "Task List:\n",
    "\n",
    "Reduce MSW to <60 features.\n",
    "1. Remove all features withr 0 sequence reads.\n",
    "2. Also remove ones with less than 0.1% total of the sum!\n",
    "3. Include back the important ones.\n",
    "\n",
    "\n",
    "Comparing msm and msw\n",
    "4. Overlay histogram to see interaction.\n",
    "5. STacked bar chart of important features.\n",
    "6. Heatmap correlaton within msm and msw\n",
    "7. Feature level descriptive analysis, mean, median.\n",
    "8. is there any particular bacteria, that contributes to the model.\n",
    "\n",
    "Use msm or msw as the outcome, and we can try different models to fit. \n",
    "\n",
    "'''"
   ]
  },
  {
   "cell_type": "code",
   "execution_count": 2,
   "metadata": {},
   "outputs": [
    {
     "ename": "FileNotFoundError",
     "evalue": "File b'MSW_to_43.csv' does not exist",
     "output_type": "error",
     "traceback": [
      "\u001b[1;31m---------------------------------------------------------------------------\u001b[0m",
      "\u001b[1;31mFileNotFoundError\u001b[0m                         Traceback (most recent call last)",
      "\u001b[1;32m<ipython-input-2-9c36e3d26220>\u001b[0m in \u001b[0;36m<module>\u001b[1;34m()\u001b[0m\n\u001b[0;32m      4\u001b[0m \u001b[1;33m\u001b[0m\u001b[0m\n\u001b[0;32m      5\u001b[0m \u001b[1;33m\u001b[0m\u001b[0m\n\u001b[1;32m----> 6\u001b[1;33m \u001b[0mdf_msw_original\u001b[0m \u001b[1;33m=\u001b[0m \u001b[0mpd\u001b[0m\u001b[1;33m.\u001b[0m\u001b[0mread_csv\u001b[0m\u001b[1;33m(\u001b[0m\u001b[1;34m'MSW_to_43.csv'\u001b[0m\u001b[1;33m)\u001b[0m\u001b[1;33m\u001b[0m\u001b[0m\n\u001b[0m\u001b[0;32m      7\u001b[0m \u001b[0mprint\u001b[0m\u001b[1;33m(\u001b[0m\u001b[0mdf_msw_original\u001b[0m\u001b[1;33m.\u001b[0m\u001b[0mhead\u001b[0m\u001b[1;33m(\u001b[0m\u001b[1;33m)\u001b[0m\u001b[1;33m)\u001b[0m\u001b[1;33m\u001b[0m\u001b[0m\n",
      "\u001b[1;32mC:\\Anaconda\\lib\\site-packages\\pandas\\io\\parsers.py\u001b[0m in \u001b[0;36mparser_f\u001b[1;34m(filepath_or_buffer, sep, delimiter, header, names, index_col, usecols, squeeze, prefix, mangle_dupe_cols, dtype, engine, converters, true_values, false_values, skipinitialspace, skiprows, nrows, na_values, keep_default_na, na_filter, verbose, skip_blank_lines, parse_dates, infer_datetime_format, keep_date_col, date_parser, dayfirst, iterator, chunksize, compression, thousands, decimal, lineterminator, quotechar, quoting, escapechar, comment, encoding, dialect, tupleize_cols, error_bad_lines, warn_bad_lines, skipfooter, skip_footer, doublequote, delim_whitespace, as_recarray, compact_ints, use_unsigned, low_memory, buffer_lines, memory_map, float_precision)\u001b[0m\n\u001b[0;32m    653\u001b[0m                     skip_blank_lines=skip_blank_lines)\n\u001b[0;32m    654\u001b[0m \u001b[1;33m\u001b[0m\u001b[0m\n\u001b[1;32m--> 655\u001b[1;33m         \u001b[1;32mreturn\u001b[0m \u001b[0m_read\u001b[0m\u001b[1;33m(\u001b[0m\u001b[0mfilepath_or_buffer\u001b[0m\u001b[1;33m,\u001b[0m \u001b[0mkwds\u001b[0m\u001b[1;33m)\u001b[0m\u001b[1;33m\u001b[0m\u001b[0m\n\u001b[0m\u001b[0;32m    656\u001b[0m \u001b[1;33m\u001b[0m\u001b[0m\n\u001b[0;32m    657\u001b[0m     \u001b[0mparser_f\u001b[0m\u001b[1;33m.\u001b[0m\u001b[0m__name__\u001b[0m \u001b[1;33m=\u001b[0m \u001b[0mname\u001b[0m\u001b[1;33m\u001b[0m\u001b[0m\n",
      "\u001b[1;32mC:\\Anaconda\\lib\\site-packages\\pandas\\io\\parsers.py\u001b[0m in \u001b[0;36m_read\u001b[1;34m(filepath_or_buffer, kwds)\u001b[0m\n\u001b[0;32m    403\u001b[0m \u001b[1;33m\u001b[0m\u001b[0m\n\u001b[0;32m    404\u001b[0m     \u001b[1;31m# Create the parser.\u001b[0m\u001b[1;33m\u001b[0m\u001b[1;33m\u001b[0m\u001b[0m\n\u001b[1;32m--> 405\u001b[1;33m     \u001b[0mparser\u001b[0m \u001b[1;33m=\u001b[0m \u001b[0mTextFileReader\u001b[0m\u001b[1;33m(\u001b[0m\u001b[0mfilepath_or_buffer\u001b[0m\u001b[1;33m,\u001b[0m \u001b[1;33m**\u001b[0m\u001b[0mkwds\u001b[0m\u001b[1;33m)\u001b[0m\u001b[1;33m\u001b[0m\u001b[0m\n\u001b[0m\u001b[0;32m    406\u001b[0m \u001b[1;33m\u001b[0m\u001b[0m\n\u001b[0;32m    407\u001b[0m     \u001b[1;32mif\u001b[0m \u001b[0mchunksize\u001b[0m \u001b[1;32mor\u001b[0m \u001b[0miterator\u001b[0m\u001b[1;33m:\u001b[0m\u001b[1;33m\u001b[0m\u001b[0m\n",
      "\u001b[1;32mC:\\Anaconda\\lib\\site-packages\\pandas\\io\\parsers.py\u001b[0m in \u001b[0;36m__init__\u001b[1;34m(self, f, engine, **kwds)\u001b[0m\n\u001b[0;32m    762\u001b[0m             \u001b[0mself\u001b[0m\u001b[1;33m.\u001b[0m\u001b[0moptions\u001b[0m\u001b[1;33m[\u001b[0m\u001b[1;34m'has_index_names'\u001b[0m\u001b[1;33m]\u001b[0m \u001b[1;33m=\u001b[0m \u001b[0mkwds\u001b[0m\u001b[1;33m[\u001b[0m\u001b[1;34m'has_index_names'\u001b[0m\u001b[1;33m]\u001b[0m\u001b[1;33m\u001b[0m\u001b[0m\n\u001b[0;32m    763\u001b[0m \u001b[1;33m\u001b[0m\u001b[0m\n\u001b[1;32m--> 764\u001b[1;33m         \u001b[0mself\u001b[0m\u001b[1;33m.\u001b[0m\u001b[0m_make_engine\u001b[0m\u001b[1;33m(\u001b[0m\u001b[0mself\u001b[0m\u001b[1;33m.\u001b[0m\u001b[0mengine\u001b[0m\u001b[1;33m)\u001b[0m\u001b[1;33m\u001b[0m\u001b[0m\n\u001b[0m\u001b[0;32m    765\u001b[0m \u001b[1;33m\u001b[0m\u001b[0m\n\u001b[0;32m    766\u001b[0m     \u001b[1;32mdef\u001b[0m \u001b[0mclose\u001b[0m\u001b[1;33m(\u001b[0m\u001b[0mself\u001b[0m\u001b[1;33m)\u001b[0m\u001b[1;33m:\u001b[0m\u001b[1;33m\u001b[0m\u001b[0m\n",
      "\u001b[1;32mC:\\Anaconda\\lib\\site-packages\\pandas\\io\\parsers.py\u001b[0m in \u001b[0;36m_make_engine\u001b[1;34m(self, engine)\u001b[0m\n\u001b[0;32m    983\u001b[0m     \u001b[1;32mdef\u001b[0m \u001b[0m_make_engine\u001b[0m\u001b[1;33m(\u001b[0m\u001b[0mself\u001b[0m\u001b[1;33m,\u001b[0m \u001b[0mengine\u001b[0m\u001b[1;33m=\u001b[0m\u001b[1;34m'c'\u001b[0m\u001b[1;33m)\u001b[0m\u001b[1;33m:\u001b[0m\u001b[1;33m\u001b[0m\u001b[0m\n\u001b[0;32m    984\u001b[0m         \u001b[1;32mif\u001b[0m \u001b[0mengine\u001b[0m \u001b[1;33m==\u001b[0m \u001b[1;34m'c'\u001b[0m\u001b[1;33m:\u001b[0m\u001b[1;33m\u001b[0m\u001b[0m\n\u001b[1;32m--> 985\u001b[1;33m             \u001b[0mself\u001b[0m\u001b[1;33m.\u001b[0m\u001b[0m_engine\u001b[0m \u001b[1;33m=\u001b[0m \u001b[0mCParserWrapper\u001b[0m\u001b[1;33m(\u001b[0m\u001b[0mself\u001b[0m\u001b[1;33m.\u001b[0m\u001b[0mf\u001b[0m\u001b[1;33m,\u001b[0m \u001b[1;33m**\u001b[0m\u001b[0mself\u001b[0m\u001b[1;33m.\u001b[0m\u001b[0moptions\u001b[0m\u001b[1;33m)\u001b[0m\u001b[1;33m\u001b[0m\u001b[0m\n\u001b[0m\u001b[0;32m    986\u001b[0m         \u001b[1;32melse\u001b[0m\u001b[1;33m:\u001b[0m\u001b[1;33m\u001b[0m\u001b[0m\n\u001b[0;32m    987\u001b[0m             \u001b[1;32mif\u001b[0m \u001b[0mengine\u001b[0m \u001b[1;33m==\u001b[0m \u001b[1;34m'python'\u001b[0m\u001b[1;33m:\u001b[0m\u001b[1;33m\u001b[0m\u001b[0m\n",
      "\u001b[1;32mC:\\Anaconda\\lib\\site-packages\\pandas\\io\\parsers.py\u001b[0m in \u001b[0;36m__init__\u001b[1;34m(self, src, **kwds)\u001b[0m\n\u001b[0;32m   1603\u001b[0m         \u001b[0mkwds\u001b[0m\u001b[1;33m[\u001b[0m\u001b[1;34m'allow_leading_cols'\u001b[0m\u001b[1;33m]\u001b[0m \u001b[1;33m=\u001b[0m \u001b[0mself\u001b[0m\u001b[1;33m.\u001b[0m\u001b[0mindex_col\u001b[0m \u001b[1;32mis\u001b[0m \u001b[1;32mnot\u001b[0m \u001b[1;32mFalse\u001b[0m\u001b[1;33m\u001b[0m\u001b[0m\n\u001b[0;32m   1604\u001b[0m \u001b[1;33m\u001b[0m\u001b[0m\n\u001b[1;32m-> 1605\u001b[1;33m         \u001b[0mself\u001b[0m\u001b[1;33m.\u001b[0m\u001b[0m_reader\u001b[0m \u001b[1;33m=\u001b[0m \u001b[0mparsers\u001b[0m\u001b[1;33m.\u001b[0m\u001b[0mTextReader\u001b[0m\u001b[1;33m(\u001b[0m\u001b[0msrc\u001b[0m\u001b[1;33m,\u001b[0m \u001b[1;33m**\u001b[0m\u001b[0mkwds\u001b[0m\u001b[1;33m)\u001b[0m\u001b[1;33m\u001b[0m\u001b[0m\n\u001b[0m\u001b[0;32m   1606\u001b[0m \u001b[1;33m\u001b[0m\u001b[0m\n\u001b[0;32m   1607\u001b[0m         \u001b[1;31m# XXX\u001b[0m\u001b[1;33m\u001b[0m\u001b[1;33m\u001b[0m\u001b[0m\n",
      "\u001b[1;32mpandas/_libs/parsers.pyx\u001b[0m in \u001b[0;36mpandas._libs.parsers.TextReader.__cinit__ (pandas\\_libs\\parsers.c:4209)\u001b[1;34m()\u001b[0m\n",
      "\u001b[1;32mpandas/_libs/parsers.pyx\u001b[0m in \u001b[0;36mpandas._libs.parsers.TextReader._setup_parser_source (pandas\\_libs\\parsers.c:8873)\u001b[1;34m()\u001b[0m\n",
      "\u001b[1;31mFileNotFoundError\u001b[0m: File b'MSW_to_43.csv' does not exist"
     ]
    }
   ],
   "source": [
    "#read in the dataset and remove the features as suggested in the doc file\n",
    "import pandas as pd\n",
    "\n",
    "\n",
    "\n",
    "df_msw_original = pd.read_csv('MSW_to_43.csv')\n",
    "print(df_msw_original.head())"
   ]
  },
  {
   "cell_type": "code",
   "execution_count": null,
   "metadata": {
    "collapsed": true
   },
   "outputs": [],
   "source": [
    "threshold = (0.001 * df_msw_original['totalseqread'].sum()) # 0.1% of the total threshold\n",
    "\n",
    "## feature removal criteria\n",
    "# 1. remove all features with 0 sequence reads.\n",
    "# 2. remove all features with less than 0.1% of the total threshold \n",
    "\n",
    "# create list of important cols\n",
    "imp_list = ['sampleid2','sampleid','clientcodem','msw','circstat','mage','specimen','visit','clientcodef','couplecode','visitdate','totalseqread','d5__mycoplasma','d5__chlamydia','d5__neisseria','d5__treponema2']\n",
    "\n",
    "\n",
    "\n",
    "# Removal Criteria 1\n",
    "count=0\n",
    "for col in df_msw_original.columns:\n",
    "    if(df_msw_original[col].sum()==0 and col not in imp_list):\n",
    "        df_msw_original = df_msw_original.drop([col],axis=1)\n",
    "        \n",
    "# modified feature dataframe1\n",
    "df_zero_dropped = df_msw_original\n",
    "#print(df_zero_dropped.head())\n",
    "\n",
    "\n",
    "\n",
    "\n",
    "# Removal Criteria 2\n",
    "\n",
    "for col in df_zero_dropped.columns:\n",
    "    if(df_zero_dropped[col].dtype != 'O'):\n",
    "        if(df_zero_dropped[col].sum() < threshold and col not in imp_list):\n",
    "            df_zero_dropped = df_zero_dropped.drop([col],axis=1)\n",
    "\n",
    "#modifed feature dataframe2\n",
    "df_lthres_dropped = df_zero_dropped\n",
    "print(df_lthres_dropped.shape)\n",
    "\n",
    "df_lthres_dropped.to_csv('msw43.csv')\n",
    "\n",
    "\n",
    "\n",
    "# for further analysis, we are just consider the numeric values\n",
    "df_num_features = df_lthres_dropped.drop(['sampleid2','sampleid','clientcodem','msw','circstat','mage','specimen','visit','clientcodef','couplecode','visitdate','totalseqread'],axis=1)\n",
    "df_num_features.shape\n",
    "\n"
   ]
  },
  {
   "cell_type": "code",
   "execution_count": null,
   "metadata": {
    "collapsed": true
   },
   "outputs": [],
   "source": [
    "'''\n",
    "Lets do a feature level analysis\n",
    "In this place we will select the top features and \n",
    "'''\n",
    "\n",
    "\n",
    "import pandas as pd\n",
    "\n",
    "df_num_features = pd.read_csv('msw43.csv')\n",
    "df_num_features = df_num_features.drop(['sampleid2','sampleid','clientcodem','msw','circstat','mage','specimen','visit','clientcodef','couplecode','visitdate','totalseqread'],axis=1)\n",
    "\n",
    "\n",
    "\n",
    "#lets just calculate the sum and store it in a list\n",
    "# lets create a dataframe with the following features per column\n",
    "# min max median count mean stdev\n",
    "df_msw = pd.DataFrame(columns=['feature_name','min','max','median','count','mean','stdev'])\n",
    "\n",
    "#create a pd series for each of them separately and then merge them into a data frame\n",
    "feature_list = []\n",
    "feature_min = []\n",
    "feature_max = []\n",
    "feature_median = []\n",
    "feature_count = []\n",
    "feature_mean = []\n",
    "feature_stdev = []\n",
    "df_num_features.shape\n",
    "\n",
    "#names\n",
    "for col in df_num_features.columns:\n",
    "    feature_list.append(col)\n",
    "\n",
    "#min\n",
    "for col in df_num_features.columns:\n",
    "    feature_min.append(df_num_features[col].min())\n",
    "\n",
    "#max\n",
    "for col in df_num_features.columns:\n",
    "    feature_max.append(df_num_features[col].max())\n",
    "\n",
    "#median\n",
    "for col in df_num_features.columns:\n",
    "    feature_median.append(df_num_features[col].median())\n",
    "\n",
    "#count\n",
    "for col in df_num_features.columns:\n",
    "    feature_count.append(df_num_features[col].sum())\n",
    "    \n",
    "#mean\n",
    "for col in df_num_features.columns:\n",
    "    feature_mean.append(df_num_features[col].mean())\n",
    "    \n",
    "#stdev\n",
    "for col in df_num_features.columns:\n",
    "    feature_stdev.append(df_num_features[col].std())"
   ]
  },
  {
   "cell_type": "code",
   "execution_count": null,
   "metadata": {
    "collapsed": true
   },
   "outputs": [],
   "source": [
    "'''\n",
    "insert all the data into a dataframe\n",
    "and sort them by count\n",
    "'''\n",
    "\n",
    "data = {'feature_name':feature_list,'min':feature_min,'max':feature_max,'median':feature_median,'count':feature_count,'mean':feature_mean,'stdev':feature_stdev}\n",
    "df = pd.DataFrame(data)\n",
    "df = df.sort_values(by=['count'],ascending=False)\n",
    "\n",
    "#write this dataframe to a csv\n",
    "df.to_csv('msw_top_feat.csv')\n"
   ]
  },
  {
   "cell_type": "code",
   "execution_count": 3,
   "metadata": {
    "collapsed": true
   },
   "outputs": [],
   "source": [
    "#### get the top features and plot the correlation heatmap\n",
    "\n",
    "import pandas as pd\n",
    "df1 = pd.read_csv('msw43.csv')\n",
    "\n",
    "\n",
    "\n",
    "\n",
    "\n"
   ]
  },
  {
   "cell_type": "code",
   "execution_count": 4,
   "metadata": {},
   "outputs": [
    {
     "name": "stdout",
     "output_type": "stream",
     "text": [
      "   d5__lactobacillus  d5__corynebacterium1  d5__gardnerella  d5__sneathia  \\\n",
      "0                  7                 26358            22537            12   \n",
      "1                 12                 63503               10            12   \n",
      "2                  4                  2106                6             7   \n",
      "3                 15                  2479            40810          6304   \n",
      "4                  4                  9982              105         26028   \n",
      "\n",
      "   d5__finegoldia  d5__anaerococcus  d5__peptoniphilus  d5__staphylococcus  \\\n",
      "0             146               343                289                9379   \n",
      "1              42                35                 29               18231   \n",
      "2              66               462                 56                1349   \n",
      "3              97               256                 88                2786   \n",
      "4             217             21735                187                 363   \n",
      "\n",
      "   d5__streptococcus  d5__veillonella  \n",
      "0                 30               10  \n",
      "1                 29                6  \n",
      "2              55673                5  \n",
      "3                 31            21960  \n",
      "4               6012             7172  \n"
     ]
    }
   ],
   "source": [
    "col = ['d5__lactobacillus','d5__corynebacterium1','d5__gardnerella','d5__sneathia','d5__finegoldia','d5__anaerococcus','d5__peptoniphilus',\n",
    "'d5__staphylococcus','d5__streptococcus','d5__veillonella']\n",
    "\n",
    "df_top_features = df1[col]\n",
    "print(df_top_features.head())\n",
    "\n",
    "\n",
    "\n"
   ]
  },
  {
   "cell_type": "code",
   "execution_count": 1,
   "metadata": {},
   "outputs": [
    {
     "data": {
      "image/png": "[encoded data removed]",
      "text/plain": [
       "<matplotlib.figure.Figure at 0x2999f500518>"
      ]
     },
     "metadata": {},
     "output_type": "display_data"
    }
   ],
   "source": [
    "import pandas as pd\n",
    "import seaborn as sns\n",
    "import matplotlib.pyplot as plt\n",
    "import numpy as np\n",
    "\n",
    "## read from the relative abundance data set\n",
    "\n",
    "rel_abundance_msw = pd.read_csv('msw_tt_rel_abundance.csv')\n",
    "\n",
    "sns.set(style='white')\n",
    "\n",
    "corr = rel_abundance_msw.corr(method='spearman')\n",
    "\n",
    "# Generate a mask for the upper triangle\n",
    "mask = np.zeros_like(corr, dtype=np.bool)\n",
    "mask[np.triu_indices_from(mask)] = True\n",
    "\n",
    "\n",
    "# Generate a custom diverging colormap\n",
    "cmap = sns.diverging_palette(220, 10, as_cmap=True)\n",
    "\n",
    "\n",
    "\n",
    "# Set up the matplotlib figure\n",
    "f, ax = plt.subplots(figsize=(11, 9))\n",
    "\n",
    "\n",
    "# Draw the heatmap with the mask and correct aspect ratio\n",
    "sns.heatmap(corr, mask=mask, cmap=cmap, vmax=1.0, center=0,\n",
    "            square=True, linewidths=.5, cbar_kws={\"shrink\": .5})\n",
    "plt.title('Correlation Plot for MSW')\n",
    "\n",
    "plt.show()"
   ]
  },
  {
   "cell_type": "code",
   "execution_count": null,
   "metadata": {
    "collapsed": true
   },
   "outputs": [],
   "source": []
  }
 ],
 "metadata": {
  "kernelspec": {
   "display_name": "Python 3",
   "language": "python",
   "name": "python3"
  },
  "language_info": {
   "codemirror_mode": {
    "name": "ipython",
    "version": 3
   },
   "file_extension": ".py",
   "mimetype": "text/x-python",
   "name": "python",
   "nbconvert_exporter": "python",
   "pygments_lexer": "ipython3",
   "version": "3.6.3"
  }
 },
 "nbformat": 4,
 "nbformat_minor": 2
}
