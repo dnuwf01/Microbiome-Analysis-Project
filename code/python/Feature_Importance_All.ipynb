{
 "cells": [
  {
   "cell_type": "code",
   "execution_count": 99,
   "metadata": {},
   "outputs": [
    {
     "data": {
      "text/plain": [
       "'\\nRandom Forest applied to all of the selected taxa after filtering\\nRelative importance of each of the features is obtained\\n\\n@Deb\\n'"
      ]
     },
     "execution_count": 99,
     "metadata": {},
     "output_type": "execute_result"
    }
   ],
   "source": [
    "'''\n",
    "Random Forest applied to all of the selected taxa after filtering\n",
    "Relative importance of each of the features is obtained\n",
    "\n",
    "@Deb\n",
    "'''"
   ]
  },
  {
   "cell_type": "code",
   "execution_count": null,
   "metadata": {},
   "outputs": [],
   "source": []
  },
  {
   "cell_type": "code",
   "execution_count": 100,
   "metadata": {},
   "outputs": [
    {
     "data": {
      "text/plain": [
       "(43, 41)"
      ]
     },
     "execution_count": 100,
     "metadata": {},
     "output_type": "execute_result"
    }
   ],
   "source": [
    "import pandas as pd\n",
    "\n",
    "df_msm = pd.read_csv('../../data/msm_tt_rel_abundance_all.csv')\n",
    "df_msm.shape"
   ]
  },
  {
   "cell_type": "code",
   "execution_count": 101,
   "metadata": {},
   "outputs": [
    {
     "data": {
      "text/plain": [
       "Index(['d5__lactobacillus', 'd5__corynebacterium1', 'd5__gardnerella',\n",
       "       'd5__sneathia', 'd5__staphylococcus', 'd5__anaerococcus',\n",
       "       'd5__streptococcus', 'd5__finegoldia', 'd5__peptoniphilus',\n",
       "       'd5__prevotella', 'd5__veillonella', 'd5__atopobium', 'd5__ezakiella',\n",
       "       'd4__prevotellaceaeother', 'd5__megasphaera', 'd5__fastidiosipila',\n",
       "       'd5__ralstonia', 'd5__corynebacterium', 'd5__granulicatella',\n",
       "       'd5__porphyromonas', 'd5__dialister', 'd5__shuttleworthia',\n",
       "       'd4__bifidobacteriaceaeother', 'd5__mycoplasma', 'd5__ureaplasma',\n",
       "       'd5__escherichiashigella', 'd5__aerococcus',\n",
       "       'd4__corynebacteriaceaeother', 'd5__parvimonas', 'd5__fusobacterium',\n",
       "       'd5__gemella', 'd5__prevotella6', 'd5__brevibacterium',\n",
       "       'd4__familyxiother', 'd5__campylobacter', 'd5__peptostreptococcus',\n",
       "       'd5__neisseria', 'd5__acinetobacter', 'd5__facklamia', 'd5__chlamydia',\n",
       "       'd5__treponema2'],\n",
       "      dtype='object')"
      ]
     },
     "execution_count": 101,
     "metadata": {},
     "output_type": "execute_result"
    }
   ],
   "source": [
    "df_msw = pd.read_csv('../../data/msw_tt_rel_abundance_all.csv')\n",
    "df_msw.columns"
   ]
  },
  {
   "cell_type": "code",
   "execution_count": 102,
   "metadata": {},
   "outputs": [],
   "source": [
    "## add a column of status for msm and msw\n",
    "import numpy as np\n",
    "\n",
    "a = np.zeros(43)\n",
    "b = np.ones(43)\n",
    "\n",
    "df_msm['status'] = a\n",
    "df_msw['status'] = b"
   ]
  },
  {
   "cell_type": "code",
   "execution_count": 103,
   "metadata": {},
   "outputs": [
    {
     "name": "stderr",
     "output_type": "stream",
     "text": [
      "C:\\Miniconda3\\envs\\py36\\lib\\site-packages\\ipykernel_launcher.py:3: FutureWarning: Sorting because non-concatenation axis is not aligned. A future version\n",
      "of pandas will change to not sort by default.\n",
      "\n",
      "To accept the future behavior, pass 'sort=False'.\n",
      "\n",
      "To retain the current behavior and silence the warning, pass 'sort=True'.\n",
      "\n",
      "  This is separate from the ipykernel package so we can avoid doing imports until\n"
     ]
    }
   ],
   "source": [
    "## merge the dataframes using the columns and shuffle it\n",
    "\n",
    "merged_df = pd.concat([df_msm,df_msw],axis=0,ignore_index=True)\n",
    "\n",
    "merged_df\n",
    "merged_df = merged_df.sample(frac=1)\n",
    "merged_df = merged_df.fillna(0)"
   ]
  },
  {
   "cell_type": "code",
   "execution_count": 104,
   "metadata": {},
   "outputs": [],
   "source": [
    "## split data into training and testing parts\n",
    "y = merged_df['status']\n",
    "X = merged_df.drop(['status'],axis=1)\n",
    "\n",
    "from sklearn.model_selection import cross_val_score\n",
    "from sklearn.model_selection import train_test_split\n",
    "\n",
    "x_train,x_test,y_train,y_test = train_test_split(X,y,test_size=0.33,random_state=42)\n"
   ]
  },
  {
   "cell_type": "code",
   "execution_count": 105,
   "metadata": {},
   "outputs": [
    {
     "name": "stdout",
     "output_type": "stream",
     "text": [
      "0.896551724137931\n"
     ]
    },
    {
     "data": {
      "image/png": "[encoded data removed]",
      "text/plain": [
       "<Figure size 432x288 with 1 Axes>"
      ]
     },
     "metadata": {
      "needs_background": "light"
     },
     "output_type": "display_data"
    },
    {
     "data": {
      "text/plain": [
       "['d5__lactobacillus',\n",
       " 'd5__gemella',\n",
       " 'd5__parvimonas',\n",
       " 'd5__megasphaera',\n",
       " 'd5__shuttleworthia',\n",
       " 'd5__mycoplasma',\n",
       " 'd5__ralstonia',\n",
       " 'd5__corynebacterium',\n",
       " 'd5__facklamia',\n",
       " 'd4__bifidobacteriaceaeother',\n",
       " 'd5__fusobacterium',\n",
       " 'd5__peptoniphilus',\n",
       " 'd5__escherichiashigella',\n",
       " 'd5__campylobacter',\n",
       " 'd5__granulicatella']"
      ]
     },
     "execution_count": 105,
     "metadata": {},
     "output_type": "execute_result"
    }
   ],
   "source": [
    "### random forest and feature importance\n",
    "\n",
    "from sklearn.ensemble import RandomForestClassifier\n",
    "import collections\n",
    "\n",
    "\n",
    "rand_for = RandomForestClassifier(n_estimators = 200,max_depth=2, random_state=0)\n",
    "\n",
    "rand_for.fit(x_train,y_train)\n",
    "#scores = cross_val_score(rand_for,X,y,cv=5)\n",
    "#print(\"Accuracy: %0.2f (+/- %0.2f)\" % (scores.mean(), scores.std() * 2))\n",
    "# # print(rand_for.feature_importances_)\n",
    "\n",
    "print(rand_for.score(x_test,y_test))\n",
    "feat_imp = rand_for.feature_importances_*100\n",
    "feat = x_train.columns\n",
    "\n",
    "dict_feat_imp = dict(zip(feat,feat_imp))\n",
    "sorted_feat_imp = dict(sorted(dict_feat_imp.items(), key = lambda kv : kv[1],reverse=True))\n",
    "#print(rand_for.feature_importances_.sum())\n",
    "sorted_feat_imp.keys()\n",
    "\n",
    "\n",
    "\n",
    "### plot the following into a barplot\n",
    "import matplotlib.pyplot as plt\n",
    "\n",
    "\n",
    "plt.bar(range(41), sorted_feat_imp.values(),align='center')\n",
    "plt.xticks(range(41), range(41))\n",
    "\n",
    "\n",
    "plt.show()\n",
    "\n",
    "lt1 = list(sorted_feat_imp)\n",
    "lt1[:15]\n"
   ]
  },
  {
   "cell_type": "code",
   "execution_count": 106,
   "metadata": {},
   "outputs": [
    {
     "name": "stdout",
     "output_type": "stream",
     "text": [
      "0.8076016301070331\n",
      "['d5__staphylococcus', 'd5__lactobacillus', 'd4__prevotellaceaeother', 'd5__veillonella', 'd5__gardnerella', 'd5__corynebacterium1', 'd5__finegoldia', 'd5__escherichiashigella', 'd5__ralstonia', 'd5__sneathia', 'd5__streptococcus', 'd4__bifidobacteriaceaeother', 'd4__corynebacteriaceaeother', 'd4__familyxiother', 'd5__acinetobacter']\n",
      "['d5__lactobacillus', 'd5__gemella', 'd5__parvimonas', 'd5__megasphaera', 'd5__shuttleworthia', 'd5__mycoplasma', 'd5__ralstonia', 'd5__corynebacterium', 'd5__facklamia', 'd4__bifidobacteriaceaeother', 'd5__fusobacterium', 'd5__peptoniphilus', 'd5__escherichiashigella', 'd5__campylobacter', 'd5__granulicatella']\n"
     ]
    }
   ],
   "source": [
    "## lasso regression\n",
    "\n",
    "from sklearn import linear_model\n",
    "reg_lnet = linear_model.Lasso(alpha = 0.00090)\n",
    "reg_lnet.fit(x_train,y_train)\n",
    "\n",
    "print(reg.score(x_test,y_test))\n",
    "feat_imp2 = map(abs,reg_lnet.coef_)\n",
    "feat = X.columns    \n",
    "dict_feat_imp2 = dict(zip(feat,feat_imp2))\n",
    "\n",
    "sorted_feat_imp2 = dict(sorted(dict_feat_imp2.items(), key = lambda kv : kv[1],reverse=True))\n",
    "#print(rand_for.feature_importances_.sum())\n",
    "lt2 = list(sorted_feat_imp2.keys())\n",
    "print(lt2[:15])\n",
    "print(lt1[:15])"
   ]
  },
  {
   "cell_type": "code",
   "execution_count": 107,
   "metadata": {},
   "outputs": [
    {
     "data": {
      "text/plain": [
       "array([-3.31251232e+01,  2.47547770e+01, -1.99359942e+01, -7.19107412e+00,\n",
       "       -3.82310770e+00, -2.49057950e+00, -1.11375215e+00,  4.08759559e+00,\n",
       "       -8.36143362e+00, -6.17558556e+00,  5.76840799e+02, -5.29539887e-01,\n",
       "       -2.76451486e+00,  2.23509672e+01, -2.48254121e-01,  1.50798008e+00,\n",
       "        4.63206695e+00, -1.69145420e+00, -2.73829832e+00, -1.36535529e+01,\n",
       "       -2.09390156e+00, -3.47535778e-01, -3.71766598e+00, -3.37619488e+00,\n",
       "        2.79846944e+00, -2.04760589e+01,  8.80887771e+00, -2.19885910e+01,\n",
       "       -5.43523185e+00, -9.53661440e+00, -9.31717458e+00, -5.23880122e+00,\n",
       "        1.64550003e+01, -1.06002689e-01, -1.18280983e+01, -1.76421081e+00,\n",
       "       -1.12842380e+00, -1.64420653e+00,  6.30675729e+02, -9.04813291e+00,\n",
       "       -8.53856710e-01])"
      ]
     },
     "execution_count": 107,
     "metadata": {},
     "output_type": "execute_result"
    }
   ],
   "source": [
    "from sklearn.linear_model import LinearRegression\n",
    "reg = LinearRegression()\n",
    "reg.fit(X,y)\n",
    "reg.coef_\n",
    "\n"
   ]
  }
 ],
 "metadata": {
  "kernelspec": {
   "display_name": "Python 3",
   "language": "python",
   "name": "python3"
  },
  "language_info": {
   "codemirror_mode": {
    "name": "ipython",
    "version": 3
   },
   "file_extension": ".py",
   "mimetype": "text/x-python",
   "name": "python",
   "nbconvert_exporter": "python",
   "pygments_lexer": "ipython3",
   "version": "3.6.7"
  }
 },
 "nbformat": 4,
 "nbformat_minor": 2
}
