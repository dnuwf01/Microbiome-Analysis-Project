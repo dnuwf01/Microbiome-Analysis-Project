{
 "cells": [
  {
   "cell_type": "code",
   "execution_count": 2,
   "metadata": {},
   "outputs": [
    {
     "data": {
      "text/plain": [
       "'\\nRandom Forest applied to all of the selected taxa after filtering\\nRelative importance of each of the features is obtained\\n\\n@Deb\\n'"
      ]
     },
     "execution_count": 2,
     "metadata": {},
     "output_type": "execute_result"
    }
   ],
   "source": [
    "'''\n",
    "Random Forest applied to all of the selected taxa after filtering\n",
    "Relative importance of each of the features is obtained\n",
    "\n",
    "@Deb\n",
    "'''"
   ]
  },
  {
   "cell_type": "code",
   "execution_count": null,
   "metadata": {},
   "outputs": [],
   "source": []
  },
  {
   "cell_type": "code",
   "execution_count": 3,
   "metadata": {},
   "outputs": [
    {
     "data": {
      "text/plain": [
       "(43, 41)"
      ]
     },
     "execution_count": 3,
     "metadata": {},
     "output_type": "execute_result"
    }
   ],
   "source": [
    "import pandas as pd\n",
    "\n",
    "\n",
    "df_msm = pd.read_csv('../../data/msm_tt_rel_abundance_all.csv')\n",
    "df_msm.shape\n"
   ]
  },
  {
   "cell_type": "code",
   "execution_count": 4,
   "metadata": {},
   "outputs": [
    {
     "data": {
      "text/plain": [
       "Index(['d5__lactobacillus', 'd5__corynebacterium1', 'd5__gardnerella',\n",
       "       'd5__sneathia', 'd5__staphylococcus', 'd5__anaerococcus',\n",
       "       'd5__streptococcus', 'd5__finegoldia', 'd5__peptoniphilus',\n",
       "       'd5__prevotella', 'd5__veillonella', 'd5__atopobium', 'd5__ezakiella',\n",
       "       'd4__prevotellaceaeother', 'd5__megasphaera', 'd5__fastidiosipila',\n",
       "       'd5__ralstonia', 'd5__corynebacterium', 'd5__granulicatella',\n",
       "       'd5__porphyromonas', 'd5__dialister', 'd5__shuttleworthia',\n",
       "       'd4__bifidobacteriaceaeother', 'd5__mycoplasma', 'd5__ureaplasma',\n",
       "       'd5__escherichiashigella', 'd5__aerococcus',\n",
       "       'd4__corynebacteriaceaeother', 'd5__parvimonas', 'd5__fusobacterium',\n",
       "       'd5__gemella', 'd5__prevotella6', 'd5__brevibacterium',\n",
       "       'd4__familyxiother', 'd5__campylobacter', 'd5__peptostreptococcus',\n",
       "       'd5__neisseria', 'd5__acinetobacter', 'd5__facklamia', 'd5__chlamydia',\n",
       "       'd5__treponema2'],\n",
       "      dtype='object')"
      ]
     },
     "execution_count": 4,
     "metadata": {},
     "output_type": "execute_result"
    }
   ],
   "source": [
    "df_msw = pd.read_csv('../../data/msw_tt_rel_abundance_all.csv')\n",
    "df_msw.columns"
   ]
  },
  {
   "cell_type": "code",
   "execution_count": 5,
   "metadata": {},
   "outputs": [],
   "source": [
    "## add a column of status for msm and msw\n",
    "import numpy as np\n",
    "\n",
    "a = np.zeros(43)\n",
    "b = np.ones(43)\n",
    "\n",
    "df_msm['status'] = a\n",
    "df_msw['status'] = b"
   ]
  },
  {
   "cell_type": "code",
   "execution_count": 8,
   "metadata": {},
   "outputs": [
    {
     "name": "stderr",
     "output_type": "stream",
     "text": [
      "C:\\Miniconda3\\envs\\py36\\lib\\site-packages\\ipykernel_launcher.py:3: FutureWarning: Sorting because non-concatenation axis is not aligned. A future version\n",
      "of pandas will change to not sort by default.\n",
      "\n",
      "To accept the future behavior, pass 'sort=False'.\n",
      "\n",
      "To retain the current behavior and silence the warning, pass 'sort=True'.\n",
      "\n",
      "  This is separate from the ipykernel package so we can avoid doing imports until\n"
     ]
    }
   ],
   "source": [
    "## merge the dataframes using the columns and shuffle it\n",
    "\n",
    "merged_df = pd.concat([df_msm,df_msw],axis=0,ignore_index=True)\n",
    "\n",
    "merged_df\n",
    "merged_df = merged_df.sample(frac=1)\n",
    "merged_df = merged_df.fillna(0)"
   ]
  },
  {
   "cell_type": "code",
   "execution_count": 9,
   "metadata": {},
   "outputs": [],
   "source": [
    "## split data into training and testing parts\n",
    "y = merged_df['status']\n",
    "X = merged_df.drop(['status'],axis=1)\n",
    "\n",
    "from sklearn.model_selection import cross_val_score\n",
    "from sklearn.model_selection import train_test_split\n",
    "\n",
    "x_train,x_test,y_train,y_test = train_test_split(X,y,test_size=0.33,random_state=42)\n"
   ]
  },
  {
   "cell_type": "code",
   "execution_count": 45,
   "metadata": {},
   "outputs": [
    {
     "name": "stdout",
     "output_type": "stream",
     "text": [
      "0.7931034482758621\n"
     ]
    },
    {
     "data": {
      "image/png": "[encoded data removed]",
      "text/plain": [
       "<Figure size 432x288 with 1 Axes>"
      ]
     },
     "metadata": {
      "needs_background": "light"
     },
     "output_type": "display_data"
    },
    {
     "data": {
      "text/plain": [
       "{'d5__gemella': 12.139492511934506,\n",
       " 'd5__parvimonas': 11.330348004429695,\n",
       " 'd5__lactobacillus': 7.422389732242715,\n",
       " 'd5__peptoniphilus': 6.312551709614307,\n",
       " 'd5__facklamia': 5.099793265593485,\n",
       " 'd5__veillonella': 5.001896348566647,\n",
       " 'd5__mycoplasma': 4.20166171759298,\n",
       " 'd5__shuttleworthia': 4.018102165244659,\n",
       " 'd5__ralstonia': 3.8296332700166644,\n",
       " 'd5__escherichiashigella': 3.603982189636911,\n",
       " 'd5__megasphaera': 3.339359870375358,\n",
       " 'd5__fusobacterium': 2.9620214562505396,\n",
       " 'd5__campylobacter': 2.71103956100141,\n",
       " 'd5__dialister': 2.500467762203803,\n",
       " 'd5__prevotella6': 2.348822563341139,\n",
       " 'd5__sneathia': 1.8957382309768165,\n",
       " 'd5__fastidiosipila': 1.8267878455512836,\n",
       " 'd5__porphyromonas': 1.791943241052351,\n",
       " 'd4__bifidobacteriaceaeother': 1.6927051553330381,\n",
       " 'd5__peptostreptococcus': 1.6621490603208517,\n",
       " 'd5__staphylococcus': 1.4807836631687699,\n",
       " 'd5__atopobium': 1.3631996118637213,\n",
       " 'd5__anaerococcus': 1.250020929878029,\n",
       " 'd5__neisseria': 1.16596889735703,\n",
       " 'd5__aerococcus': 1.029102892858194,\n",
       " 'd4__prevotellaceaeother': 1.0155228273668462,\n",
       " 'd5__granulicatella': 0.9421547971177591,\n",
       " 'd5__acinetobacter': 0.8300647990939505,\n",
       " 'd5__ureaplasma': 0.7457371736346466,\n",
       " 'd5__corynebacterium1': 0.7419329367327322,\n",
       " 'd4__familyxiother': 0.698902704996268,\n",
       " 'd5__corynebacterium': 0.640796554443896,\n",
       " 'd5__gardnerella': 0.5806653138209553,\n",
       " 'd5__finegoldia': 0.3198154512734244,\n",
       " 'd5__brevibacterium': 0.3082548102171965,\n",
       " 'd5__prevotella': 0.3071108376253108,\n",
       " 'd4__corynebacteriaceaeother': 0.2758732148902556,\n",
       " 'd5__streptococcus': 0.23658928501693266,\n",
       " 'd5__chlamydia': 0.18586956521739129,\n",
       " 'd5__treponema2': 0.10111347633862774,\n",
       " 'd5__ezakiella': 0.0896345958089087}"
      ]
     },
     "execution_count": 45,
     "metadata": {},
     "output_type": "execute_result"
    }
   ],
   "source": [
    "### random forest and feature importance\n",
    "\n",
    "from sklearn.ensemble import RandomForestClassifier\n",
    "import collections\n",
    "\n",
    "\n",
    "rand_for = RandomForestClassifier(n_estimators = 200,max_depth=2, random_state=0)\n",
    "\n",
    "rand_for.fit(x_train,y_train)\n",
    "#scores = cross_val_score(rand_for,X,y,cv=5)\n",
    "#print(\"Accuracy: %0.2f (+/- %0.2f)\" % (scores.mean(), scores.std() * 2))\n",
    "# # print(rand_for.feature_importances_)\n",
    "\n",
    "print(rand_for.score(x_test,y_test))\n",
    "feat_imp = rand_for.feature_importances_*100\n",
    "feat = x_train.columns\n",
    "\n",
    "dict_feat_imp = dict(zip(feat,feat_imp))\n",
    "sorted_feat_imp = dict(sorted(dict_feat_imp.items(), key = lambda kv : kv[1],reverse=True))\n",
    "#print(rand_for.feature_importances_.sum())\n",
    "sorted_feat_imp.keys()\n",
    "\n",
    "\n",
    "\n",
    "### plot the following into a barplot\n",
    "import matplotlib.pyplot as plt\n",
    "\n",
    "\n",
    "plt.bar(range(41), sorted_feat_imp.values(),align='center')\n",
    "plt.xticks(range(41), range(41))\n",
    "\n",
    "\n",
    "plt.show()\n",
    "\n",
    "sorted_feat_imp\n"
   ]
  },
  {
   "cell_type": "code",
   "execution_count": 51,
   "metadata": {},
   "outputs": [
    {
     "data": {
      "text/plain": [
       "array([-0.,  0., -0.,  0.,  0.,  0.,  0.,  0.,  0.,  0.,  0., -0.,  0.,\n",
       "       -0.,  0., -0., -0.,  0.,  0., -0.,  0., -0.,  0., -0., -0., -0.,\n",
       "        0., -0.,  0., -0.,  0., -0.,  0.,  0., -0.,  0.,  0.,  0.,  0.,\n",
       "       -0.,  0.])"
      ]
     },
     "execution_count": 51,
     "metadata": {},
     "output_type": "execute_result"
    }
   ],
   "source": [
    "## lasso regression\n",
    "\n",
    "from sklearn import linear_model\n",
    "reg_lnet = linear_model.Lasso(alpha = 0.1)\n",
    "reg_lnet.fit(x_train,y_train)\n",
    "reg_lnet.coef_\n"
   ]
  },
  {
   "cell_type": "code",
   "execution_count": null,
   "metadata": {},
   "outputs": [],
   "source": []
  }
 ],
 "metadata": {
  "kernelspec": {
   "display_name": "Python 3",
   "language": "python",
   "name": "python3"
  }
 },
 "nbformat": 4,
 "nbformat_minor": 2
}
