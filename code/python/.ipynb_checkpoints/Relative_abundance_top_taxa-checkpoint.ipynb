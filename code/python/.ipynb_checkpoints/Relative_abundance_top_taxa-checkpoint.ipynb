{
 "cells": [
  {
   "cell_type": "markdown",
   "metadata": {},
   "source": [
    "'''\n",
    "Read the msm and msw data set and print the modified datasets containing the relative abundance\n",
    "'''\n",
    "\n",
    "import pandas as pd\n",
    "\n",
    "\n",
    "msm = pd.read_csv('../../data/MSM43.csv')\n",
    "msw = pd.read_csv('../../data/msw43.csv')\n",
    "\n",
    "\n",
    "\n",
    "#msm = msm[feature_list]\n",
    "#msw = msw[feature_list]\n",
    "#msm = msm.drop(['sampleid','clientcodem','visitdate','specimen','top_taxa','Other'], axis = 1)\n",
    "\n",
    "msm"
   ]
  },
  {
   "cell_type": "code",
   "execution_count": 27,
   "metadata": {},
   "outputs": [
    {
     "name": "stdout",
     "output_type": "stream",
     "text": [
      "Index(['d5__lactobacillus', 'd5__corynebacterium1', 'd5__gardnerella',\n",
      "       'd5__sneathia', 'd5__finegoldia', 'd5__anaerococcus',\n",
      "       'd5__peptoniphilus', 'd5__staphylococcus', 'd5__streptococcus',\n",
      "       'd5__veillonella', 'd5__prevotella', 'd5__ezakiella',\n",
      "       'd5__shuttleworthia', 'd4__prevotellaceaeother', 'd5__corynebacterium',\n",
      "       'd5__aerococcus', 'd5__porphyromonas', 'd5__atopobium',\n",
      "       'd5__parvimonas', 'd5__megasphaera', 'd5__mobiluncus', 'd5__gemella',\n",
      "       'd4__pseudomonadaceaeother', 'd5__peptostreptococcus', 'd5__dialister',\n",
      "       'd5__mycoplasma', 'd5__fusobacterium', 'd4__sphingobacteriaceaeother',\n",
      "       'd5__ureaplasma', 'd5__campylobacter', 'd4__bifidobacteriaceaeother',\n",
      "       'd4__streptococcaceaeother', 'd5__escherichiashigella',\n",
      "       'd4__familyxiother', 'd5__granulicatella', 'd5__bifidobacterium',\n",
      "       'd5__fastidiosipila', 'd4__leptotrichiaceaeother',\n",
      "       'd4__corynebacteriaceaeother', 'd5__prevotella6', 'd5__brevibacterium',\n",
      "       'd5__facklamia', 'd5__acinetobacter', 'd5__ralstonia', 'd5__chlamydia',\n",
      "       'd5__neisseria', 'd5__treponema2', 'total_seq_read'],\n",
      "      dtype='object')\n",
      "Index(['totalseqread', 'd5__lactobacillus', 'd5__corynebacterium1',\n",
      "       'd5__gardnerella', 'd5__sneathia', 'd5__staphylococcus',\n",
      "       'd5__anaerococcus', 'd5__streptococcus', 'd5__finegoldia',\n",
      "       'd5__peptoniphilus', 'd5__prevotella', 'd5__veillonella',\n",
      "       'd5__atopobium', 'd5__ezakiella', 'd4__prevotellaceaeother',\n",
      "       'd5__megasphaera', 'd5__fastidiosipila', 'd5__ralstonia',\n",
      "       'd5__corynebacterium', 'd5__granulicatella', 'd5__porphyromonas',\n",
      "       'd5__dialister', 'd5__shuttleworthia', 'd5__eremococcus',\n",
      "       'd4__bifidobacteriaceaeother', 'd5__mycoplasma', 'd5__ureaplasma',\n",
      "       'd5__escherichiashigella', 'd5__aerococcus',\n",
      "       'd4__corynebacteriaceaeother', 'd5__parvimonas', 'd5__fusobacterium',\n",
      "       'd5__prevotella7', 'd5__gemella', 'd5__prevotella6',\n",
      "       'd5__brevibacterium', 'd5__hydrotalea', 'd4__familyxiother',\n",
      "       'd5__campylobacter', 'd5__peptostreptococcus', 'd5__neisseria',\n",
      "       'd5__micrococcus', 'd5__acinetobacter', 'd5__dnf00809', 'd5__rothia',\n",
      "       'd5__facklamia', 'd5__dermabacter', 'd5__kocuria', 'd5__negativicoccus',\n",
      "       'd5__jeotgalicoccus', 'd5__bradyrhizobium', 'd5__brachybacterium',\n",
      "       'd5__johnsonella', 'd5__actinomyces', 'd5__chryseobacterium',\n",
      "       'd5__paracoccus', 'd5__varibaculum', 'd5__chlamydia', 'd5__treponema2'],\n",
      "      dtype='object')\n"
     ]
    },
    {
     "data": {
      "text/plain": [
       "(43, 59)"
      ]
     },
     "execution_count": 27,
     "metadata": {},
     "output_type": "execute_result"
    }
   ],
   "source": [
    "''' Read the msm and msw data set and print the modified datasets containing the relative abundance '''\n",
    "\n",
    "import pandas as pd\n",
    "\n",
    "msm = pd.read_csv('../../data/MSM43.csv')\n",
    "msw = pd.read_csv('../../data/msw43.csv')\n",
    "\n",
    "#msm = msm[feature_list]\n",
    "\n",
    "#msw = msw[feature_list]\n",
    "\n",
    "msm = msm.drop(['sampleid','clientcodem','visitdate','specimen','top_taxa','Other'], axis = 1)\n",
    "\n",
    "print(msm.columns)\n",
    "print(msw.columns)\n",
    "\n",
    "\n",
    "\n",
    "## keep all common bacteria, drop the rest.\n",
    "\n",
    "msm = msm.drop(['d5__mob'])"
   ]
  },
  {
   "cell_type": "code",
   "execution_count": 24,
   "metadata": {},
   "outputs": [],
   "source": [
    "\n",
    "## calculate the relative abundance of each taxa and map to a csv file.\n",
    "## msm\n",
    "\n",
    "for i in range(43):\n",
    "    total1 = msm['total_seq_read'][i]\n",
    "    for j in range(48):\n",
    "            msm.iloc[i,j] = msm.iloc[i,j]/total1\n",
    "            \n",
    "\n",
    "msm = msm.drop(['total_seq_read'],axis=1)            \n",
    "msm.to_csv('../../data/msm_tt_rel_abundance_all.csv')\n",
    "    "
   ]
  },
  {
   "cell_type": "code",
   "execution_count": 17,
   "metadata": {},
   "outputs": [],
   "source": [
    "# msw\n",
    "\n",
    "## calculate the relative abundance of each taxa and map to a csv file.\n",
    "## msm\n",
    "\n",
    "for i in range(43):\n",
    "    total2 = msw['totalseqread'][i]\n",
    "    for j in range(11):\n",
    "            msw.iloc[i,j] = msw.iloc[i,j]/total2\n",
    "#msw\n",
    "msw.to_csv('msw_tt_rel_abundance.csv')\n",
    "   "
   ]
  },
  {
   "cell_type": "code",
   "execution_count": null,
   "metadata": {
    "collapsed": true
   },
   "outputs": [],
   "source": []
  }
 ],
 "metadata": {
  "kernelspec": {
   "display_name": "Python 3",
   "language": "python",
   "name": "python3"
  },
  "language_info": {
   "codemirror_mode": {
    "name": "ipython",
    "version": 3
   },
   "file_extension": ".py",
   "mimetype": "text/x-python",
   "name": "python",
   "nbconvert_exporter": "python",
   "pygments_lexer": "ipython3",
   "version": "3.6.7"
  }
 },
 "nbformat": 4,
 "nbformat_minor": 2
}
